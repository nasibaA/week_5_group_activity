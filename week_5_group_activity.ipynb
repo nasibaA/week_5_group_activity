{
 "cells": [
  {
   "cell_type": "code",
   "execution_count": 40,
   "id": "e52c61bd",
   "metadata": {},
   "outputs": [
    {
     "name": "stdout",
     "output_type": "stream",
     "text": [
      "   Show Number    Air Date      Round                         Category  Value  \\\n",
      "0         4680  12/31/2004  Jeopardy!                          HISTORY  $200    \n",
      "1         4680  12/31/2004  Jeopardy!  ESPN's TOP 10 ALL-TIME ATHLETES  $200    \n",
      "2         4680  12/31/2004  Jeopardy!      EVERYBODY TALKS ABOUT IT...  $200    \n",
      "3         4680  12/31/2004  Jeopardy!                 THE COMPANY LINE  $200    \n",
      "4         4680  12/31/2004  Jeopardy!              EPITAPHS & TRIBUTES  $200    \n",
      "\n",
      "                                            Question      Answer  \n",
      "0  For the last 8 years of his life, Galileo was ...  Copernicus  \n",
      "1  No. 2: 1912 Olympian; football star at Carlisl...  Jim Thorpe  \n",
      "2  The city of Yuma in this state has a record av...     Arizona  \n",
      "3  In 1963, live on \"The Art Linkletter Show\", th...  McDonald's  \n",
      "4  Signer of the Dec. of Indep., framer of the Co...  John Adams  \n"
     ]
    }
   ],
   "source": [
    "import pandas as pd\n",
    "import numpy as np\n",
    "file_to_load = \"JEOPARDY_CSV.csv\"\n",
    "Show_data = pd.read_csv(file_to_load)\n",
    "print(Show_data.head())\n",
    "\n"
   ]
  },
  {
   "cell_type": "code",
   "execution_count": 41,
   "id": "6bf5b38a",
   "metadata": {},
   "outputs": [
    {
     "data": {
      "text/plain": [
       "216930"
      ]
     },
     "execution_count": 41,
     "metadata": {},
     "output_type": "execute_result"
    }
   ],
   "source": [
    "show_data2 = pd.DataFrame(Show_data)\n",
    "show_data2.columns = ['Show Number', 'Air Date', 'Round', 'Category', 'Value',\n",
    "       'Question', 'Answer']\n",
    "show_data2.shape[0]"
   ]
  },
  {
   "cell_type": "code",
   "execution_count": 42,
   "id": "5ad3a348",
   "metadata": {},
   "outputs": [],
   "source": [
    "#show_unique = Show_data[\"Round\"].value_counts()\n",
    "#show_unique1 = pd.DataFrame(show_unique)\n",
    "#show_unique1\n",
    "\n"
   ]
  },
  {
   "cell_type": "code",
   "execution_count": 43,
   "id": "329eb56d",
   "metadata": {},
   "outputs": [
    {
     "data": {
      "text/plain": [
       "Year\n",
       "1984    3\n",
       "1985    3\n",
       "1986    3\n",
       "1987    3\n",
       "1988    3\n",
       "1989    3\n",
       "1990    3\n",
       "1991    3\n",
       "1992    3\n",
       "1993    3\n",
       "1994    3\n",
       "1995    3\n",
       "1996    3\n",
       "1997    4\n",
       "1998    3\n",
       "1999    3\n",
       "2000    3\n",
       "2001    3\n",
       "2002    4\n",
       "2003    3\n",
       "2004    3\n",
       "2005    3\n",
       "2006    3\n",
       "2007    4\n",
       "2008    3\n",
       "2009    3\n",
       "2010    3\n",
       "2011    3\n",
       "2012    3\n",
       "Name: Round, dtype: int64"
      ]
     },
     "execution_count": 43,
     "metadata": {},
     "output_type": "execute_result"
    }
   ],
   "source": [
    "show_data2['Air Date']=pd.to_datetime(show_data2['Air Date'])\n",
    "show_data2['Year']=show_data2['Air Date'].dt.year\n",
    "show_grouped = Show_data.groupby(\"Year\")[\"Round\"].nunique()\n",
    "show_grouped.columns = ['Year', 'Unique Shows in Year']\n",
    "show_grouped"
   ]
  },
  {
   "cell_type": "code",
   "execution_count": 44,
   "id": "50ddb4ea",
   "metadata": {},
   "outputs": [
    {
     "data": {
      "text/html": [
       "<div>\n",
       "<style scoped>\n",
       "    .dataframe tbody tr th:only-of-type {\n",
       "        vertical-align: middle;\n",
       "    }\n",
       "\n",
       "    .dataframe tbody tr th {\n",
       "        vertical-align: top;\n",
       "    }\n",
       "\n",
       "    .dataframe thead th {\n",
       "        text-align: right;\n",
       "    }\n",
       "</style>\n",
       "<table border=\"1\" class=\"dataframe\">\n",
       "  <thead>\n",
       "    <tr style=\"text-align: right;\">\n",
       "      <th></th>\n",
       "      <th>Category</th>\n",
       "    </tr>\n",
       "  </thead>\n",
       "  <tbody>\n",
       "    <tr>\n",
       "      <th>BEFORE &amp; AFTER</th>\n",
       "      <td>547</td>\n",
       "    </tr>\n",
       "    <tr>\n",
       "      <th>SCIENCE</th>\n",
       "      <td>519</td>\n",
       "    </tr>\n",
       "    <tr>\n",
       "      <th>LITERATURE</th>\n",
       "      <td>496</td>\n",
       "    </tr>\n",
       "    <tr>\n",
       "      <th>AMERICAN HISTORY</th>\n",
       "      <td>418</td>\n",
       "    </tr>\n",
       "    <tr>\n",
       "      <th>POTPOURRI</th>\n",
       "      <td>401</td>\n",
       "    </tr>\n",
       "    <tr>\n",
       "      <th>WORLD HISTORY</th>\n",
       "      <td>377</td>\n",
       "    </tr>\n",
       "    <tr>\n",
       "      <th>WORD ORIGINS</th>\n",
       "      <td>371</td>\n",
       "    </tr>\n",
       "    <tr>\n",
       "      <th>COLLEGES &amp; UNIVERSITIES</th>\n",
       "      <td>351</td>\n",
       "    </tr>\n",
       "    <tr>\n",
       "      <th>HISTORY</th>\n",
       "      <td>349</td>\n",
       "    </tr>\n",
       "    <tr>\n",
       "      <th>SPORTS</th>\n",
       "      <td>342</td>\n",
       "    </tr>\n",
       "  </tbody>\n",
       "</table>\n",
       "</div>"
      ],
      "text/plain": [
       "                         Category\n",
       "BEFORE & AFTER                547\n",
       "SCIENCE                       519\n",
       "LITERATURE                    496\n",
       "AMERICAN HISTORY              418\n",
       "POTPOURRI                     401\n",
       "WORLD HISTORY                 377\n",
       "WORD ORIGINS                  371\n",
       "COLLEGES & UNIVERSITIES       351\n",
       "HISTORY                       349\n",
       "SPORTS                        342"
      ]
     },
     "execution_count": 44,
     "metadata": {},
     "output_type": "execute_result"
    }
   ],
   "source": [
    "#What are the top 10 most frequently used categories of questions?\n",
    "category_count = Show_data[\"Category\"].value_counts()\n",
    "category_count = pd.DataFrame(category_count)\n",
    "category_count.head(10)"
   ]
  },
  {
   "cell_type": "code",
   "execution_count": 61,
   "id": "002822a8",
   "metadata": {},
   "outputs": [
    {
     "data": {
      "text/plain": [
       "<AxesSubplot:xlabel='Year'>"
      ]
     },
     "execution_count": 61,
     "metadata": {},
     "output_type": "execute_result"
    },
    {
     "data": {
      "image/png": "[encoded data removed]",
      "text/plain": [
       "<Figure size 432x288 with 1 Axes>"
      ]
     },
     "metadata": {
      "needs_background": "light"
     },
     "output_type": "display_data"
    }
   ],
   "source": [
    "#Plot number of characters in top 10 questions against the years the questions were asked in\n",
    "show_data2['Answer Character Count']=show_data2['Answer'].str.len()\n",
    "biggest_answers = show_data2.sort_values(by='Answer Character Count', ascending=False)\n",
    "\n",
    "answers_year = biggest_answers.groupby(\"Year\")\n",
    "average_characters_by_year = answers_year[\"Answer Character Count\"].mean()\n",
    "year_char = pd.DataFrame({'Average Characters in Answer': average_characters_by_year})\n",
    "import matplotlib.pyplot as plt\n",
    "year_char.plot()"
   ]
  },
  {
   "cell_type": "code",
   "execution_count": null,
   "id": "835856dc",
   "metadata": {},
   "outputs": [],
   "source": []
  }
 ],
 "metadata": {
  "kernelspec": {
   "display_name": "Python 3 (ipykernel)",
   "language": "python",
   "name": "python3"
  },
  "language_info": {
   "codemirror_mode": {
    "name": "ipython",
    "version": 3
   },
   "file_extension": ".py",
   "mimetype": "text/x-python",
   "name": "python",
   "nbconvert_exporter": "python",
   "pygments_lexer": "ipython3",
   "version": "3.8.5"
  }
 },
 "nbformat": 4,
 "nbformat_minor": 5
}
